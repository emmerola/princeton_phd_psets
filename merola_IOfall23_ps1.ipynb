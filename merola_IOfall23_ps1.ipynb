{
 "cells": [
  {
   "attachments": {},
   "cell_type": "markdown",
   "metadata": {},
   "source": [
    "### **ECO 541: Problem Set 1**  \n",
    "\n",
    "* *Original Author:* Emily Merola\n",
    "* *First created:* 2023.09.25\n",
    "* *Collaborated with:* Cameron Ricciardi, Calvin Jahnke\n",
    "* *All other work for this problem set is either handwritten, or completed in Stata*"
   ]
  },
  {
   "attachments": {},
   "cell_type": "markdown",
   "metadata": {},
   "source": [
    "#### **Part 2, question 6** \n",
    "\n",
    "Now suppose you learn from industry sources that in a fraction of the markets in your data\n",
    "behavior is collusive while in the others behavior is Cournot. Estimate the fraction of markets\n",
    "(λ) that are collusive (The readings should help once again)."
   ]
  },
  {
   "cell_type": "code",
   "execution_count": 1,
   "metadata": {},
   "outputs": [],
   "source": [
    "# Housekeeping\n",
    "using LinearAlgebra, Plots, StatsPlots, SparseArrays, Random, Statistics, Parameters\n",
    "using BenchmarkTools, PiecewiseLinearApprox, Optim, Distributions, NLSolversBase\n",
    "using CSV, DataFrames\n",
    "using GLM"
   ]
  },
  {
   "cell_type": "code",
   "execution_count": 2,
   "metadata": {},
   "outputs": [
    {
     "data": {
      "text/html": [
       "<div class=\"data-frame\"><p>5 rows × 5 columns</p><table class=\"data-frame\"><thead><tr><th></th><th>N</th><th>S</th><th>W</th><th>Q</th><th>P</th></tr><tr><th></th><th title=\"Int64\">Int64</th><th title=\"Int64\">Int64</th><th title=\"Float64\">Float64</th><th title=\"Float64\">Float64</th><th title=\"Float64\">Float64</th></tr></thead><tbody><tr><th>1</th><td>2</td><td>45</td><td>1.32</td><td>7.89</td><td>20.39</td></tr><tr><th>2</th><td>2</td><td>35</td><td>1.34</td><td>8.37</td><td>21.88</td></tr><tr><th>3</th><td>2</td><td>24</td><td>4.7</td><td>3.16</td><td>25.02</td></tr><tr><th>4</th><td>2</td><td>41</td><td>2.34</td><td>6.58</td><td>33.02</td></tr><tr><th>5</th><td>2</td><td>68</td><td>2.33</td><td>7.39</td><td>36.43</td></tr></tbody></table></div>"
      ],
      "text/latex": [
       "\\begin{tabular}{r|ccccc}\n",
       "\t& N & S & W & Q & P\\\\\n",
       "\t\\hline\n",
       "\t& Int64 & Int64 & Float64 & Float64 & Float64\\\\\n",
       "\t\\hline\n",
       "\t1 & 2 & 45 & 1.32 & 7.89 & 20.39 \\\\\n",
       "\t2 & 2 & 35 & 1.34 & 8.37 & 21.88 \\\\\n",
       "\t3 & 2 & 24 & 4.7 & 3.16 & 25.02 \\\\\n",
       "\t4 & 2 & 41 & 2.34 & 6.58 & 33.02 \\\\\n",
       "\t5 & 2 & 68 & 2.33 & 7.39 & 36.43 \\\\\n",
       "\\end{tabular}\n"
      ],
      "text/plain": [
       "\u001b[1m5×5 DataFrame\u001b[0m\n",
       "\u001b[1m Row \u001b[0m│\u001b[1m N     \u001b[0m\u001b[1m S     \u001b[0m\u001b[1m W       \u001b[0m\u001b[1m Q       \u001b[0m\u001b[1m P       \u001b[0m\n",
       "\u001b[1m     \u001b[0m│\u001b[90m Int64 \u001b[0m\u001b[90m Int64 \u001b[0m\u001b[90m Float64 \u001b[0m\u001b[90m Float64 \u001b[0m\u001b[90m Float64 \u001b[0m\n",
       "─────┼─────────────────────────────────────────\n",
       "   1 │     2     45     1.32     7.89    20.39\n",
       "   2 │     2     35     1.34     8.37    21.88\n",
       "   3 │     2     24     4.7      3.16    25.02\n",
       "   4 │     2     41     2.34     6.58    33.02\n",
       "   5 │     2     68     2.33     7.39    36.43"
      ]
     },
     "metadata": {},
     "output_type": "display_data"
    }
   ],
   "source": [
    "# Bring on the dataset\n",
    "data = CSV.read(\"/Users/emilymerola/Documents/git/IO_fa23_psets/ps1_data_2023.csv\", DataFrame);\n",
    "first(data,5) #load 5 rows & inspect"
   ]
  },
  {
   "cell_type": "code",
   "execution_count": 3,
   "metadata": {},
   "outputs": [
    {
     "data": {
      "text/plain": [
       "ols (generic function with 1 method)"
      ]
     },
     "metadata": {},
     "output_type": "display_data"
    }
   ],
   "source": [
    "## function to run OLS and get parameter estimates for A/gamma/deltas & calc residuals\n",
    "# take alpha as given \n",
    "# (\"suppose we knew what alpha was. then the following only has exogenous vars on the RHS, and OLS = MLE\")\n",
    "# whole point is to simplify the search procedure re: MLE for all of these parameters.\n",
    "\n",
    "function ols(X::Vector)\n",
    "    # pull what we need from the original dataframe\n",
    "    y_demand = data.P + ((X[1]) .* data.Q)      # same as below. setting aside to make regression equations below clear.\n",
    "    y_collusive = data.P .- ((X[1]) .* data.Q)\n",
    "    y_cournot = data.P .- ((X[1] ./ data.N) .* data.Q)\n",
    "    W = data.W\n",
    "    S = data.S\n",
    "\n",
    "    df = DataFrame(y0 = y_demand, y1 = y_collusive, y2 = y_cournot, W = W, S = S)\n",
    "\n",
    "    # demand\n",
    "    ols0 = lm(@formula(y0~S), df)\n",
    "    A = coef(ols0)[1,1]\n",
    "    gamma = coef(ols0)[2,1]\n",
    "\n",
    "    # supply: collusive case\n",
    "    ols1 = lm(@formula(y1~W), df)\n",
    "    δ0_1 = coef(ols1)[1,1]\n",
    "    δ1_1 = coef(ols1)[2,1]\n",
    "\n",
    "    # supply: cournot case\n",
    "    ols2 = lm(@formula(y2~W), df)\n",
    "    δ0_2 = coef(ols2)[1,1]\n",
    "    δ1_2 = coef(ols2)[2,1]\n",
    "\n",
    "    # predictions for y-hats\n",
    "    y_hat0 = predict(ols0)\n",
    "    y_hat1 = predict(ols1)\n",
    "    y_hat2 = predict(ols2)\n",
    "\n",
    "    # residuals\n",
    "    eps0 = df.y0 - y_hat0\n",
    "    eps1 = df.y1 - y_hat1\n",
    "    eps2 = df.y2 - y_hat2\n",
    "\n",
    "    eps_supply = (X[2] .* eps1) .+ ((1-X[2]) .* eps2)\n",
    "\n",
    "    return Δ = (A=A, gamma=gamma, δ0_1=δ0_1, δ1_1=δ1_1, δ0_2=δ0_2, δ1_2=δ1_2, eps0=eps0, eps1=eps1, eps2=eps2, eps_supply)\n",
    "end"
   ]
  },
  {
   "cell_type": "code",
   "execution_count": 4,
   "metadata": {},
   "outputs": [
    {
     "data": {
      "text/plain": [
       "optimal_params (generic function with 1 method)"
      ]
     },
     "metadata": {},
     "output_type": "display_data"
    }
   ],
   "source": [
    "# Function to generate our optimal parameters guess\n",
    "function optimal_params(Z::Vector)\n",
    "    X = [Z[1],Z[2]]\n",
    "\n",
    "    ols_res = ols(X)\n",
    "\n",
    "    sig1 = exp(Z[3])\n",
    "    sig2 = exp(Z[4])\n",
    "\n",
    "    lk_1 = sum(logpdf.(Normal(0,sig1), ols_res.eps0))\n",
    "    lk_2 = sum(logpdf.(Normal(0,sig2), ols_res.eps_supply))\n",
    "\n",
    "    lk_1 = -lk_1\n",
    "    lk_2 = -lk_2\n",
    "\n",
    "    lklhd = lk_1 + lk_2 \n",
    "    return Ω = (lklhd = lklhd) \n",
    "end"
   ]
  },
  {
   "cell_type": "code",
   "execution_count": 5,
   "metadata": {},
   "outputs": [
    {
     "data": {
      "text/plain": [
       "0.2847718765335344"
      ]
     },
     "metadata": {},
     "output_type": "display_data"
    }
   ],
   "source": [
    "## Solve for lambda \n",
    "\n",
    "## initial values\n",
    "    # set the seed (not completely necessary)\n",
    "    Random.seed!(123)\n",
    "\n",
    "    # first set of w guesses, first guess of lambda\n",
    "    w0 = rand(Uniform(0.0,1.0), 500)\n",
    "\n",
    "    # generate first guess of lambda\n",
    "    λ0 = sum(w0)/500\n",
    "\n",
    "## Update lambdas until they converge\n",
    "diff = 1\n",
    "while diff > 0.001\n",
    "\n",
    "    # our guess (note that only the lambda needs to update)\n",
    "    Z = [-4, λ0, 2.302585092994046, 2.4849066497880004]\n",
    "\n",
    "    # calculate the optimal parameters for the given guess\n",
    "    par_res = optimize(optimal_params, Z)\n",
    "\n",
    "    # pull out \"optimal parameters\" we just found, also use them (alpha) to calculate the implied errors we observe\n",
    "    opt_sig2 = Optim.minimizer(par_res)[4]\n",
    "    X2 = [Optim.minimizer(par_res)[1], Optim.minimizer(par_res)[2]]\n",
    "    ols_res = ols(X2)\n",
    "\n",
    "\n",
    "    # adjust to next guess of w's using Bayes' rule\n",
    "    top = λ0 * pdf.(Normal(0,opt_sig2), ols_res.eps1)\n",
    "    bottom = top + (1-λ0)*pdf.(Normal(0,opt_sig2), ols_res.eps2)\n",
    "    w1 = top./bottom\n",
    "\n",
    "    # calculate the new lambda\n",
    "    λ1 = sum(w1)/500\n",
    "\n",
    "    # compare to previous lambda\n",
    "    diff = λ1 - λ0\n",
    "\n",
    "    # # update for next iteration (if diff is too big)\n",
    "    λ0 = λ1\n",
    "\n",
    "end\n",
    "\n",
    "λ0"
   ]
  }
 ],
 "metadata": {
  "anaconda-cloud": {},
  "kernelspec": {
   "display_name": "Julia 1.8.2",
   "language": "julia",
   "name": "julia-1.8"
  },
  "language_info": {
   "file_extension": ".jl",
   "mimetype": "application/julia",
   "name": "julia",
   "version": "1.8.2"
  }
 },
 "nbformat": 4,
 "nbformat_minor": 1
}
