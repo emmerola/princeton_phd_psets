{
 "cells": [
  {
   "attachments": {},
   "cell_type": "markdown",
   "metadata": {},
   "source": [
    "### **ECO 541: Problem Set 2**  \n",
    "\n",
    "* *Original Author:* Emily Merola\n",
    "* *First created:* 2023.10.09\n",
    "* *Collaborated with:* Cameron Ricciardi"
   ]
  },
  {
   "attachments": {},
   "cell_type": "markdown",
   "metadata": {},
   "source": [
    "#### **Preliminaries & instructions** \n",
    "*In this problem set we will estimate demand for corporate jets. You can work in groups of two on the computational parts (but write up your own answers). Note that some of the results from this estimation exercise will not make a lot of economic sense; every time this happens, you are expected to briefly discuss why this may be the case. In part, this is intentional and will make you realize the importance of the assumptions we make and their potential limitations (the other part is the attempt to keep the specification simple and the data set small).*\n",
    "\n",
    "*The data for this problem set (in ASCII format) is posted on Canvas. The data set contains 56 observations, which account for annual model-level aircraft sales in the large-cabin segment of the business jet market between 1985 and 1998. Each observation contains 8 variables in the following order:*\n",
    "1. Aircraft model identifier\n",
    "2. Manufacturer (1 for Bombardier, 2 for Dassault, 3 for Gulfstream) \n",
    "3. Year\n",
    "4. Price (Million US dollars), denoted below by p\n",
    "5. Quantity (units sold), denoted below by q\n",
    "6. Range (miles), denoted below by R\n",
    "7. Speed (miles per hour), denoted below by S\n",
    "8. Cabin volume (cubic feet), denoted below by V"
   ]
  },
  {
   "cell_type": "code",
   "execution_count": 1,
   "metadata": {},
   "outputs": [],
   "source": [
    "# Housekeeping\n",
    "using LinearAlgebra, Plots, StatsPlots, SparseArrays, Random, Statistics, Parameters\n",
    "using BenchmarkTools, PiecewiseLinearApprox, Optim, Distributions, NLSolversBase\n",
    "using CSV, DataFrames\n",
    "using GLM"
   ]
  },
  {
   "cell_type": "code",
   "execution_count": 3,
   "metadata": {},
   "outputs": [
    {
     "data": {
      "text/html": [
       "<div class=\"data-frame\"><p>5 rows × 8 columns</p><table class=\"data-frame\"><thead><tr><th></th><th>Model</th><th>Manufacturer</th><th>Year</th><th>Price</th><th>Quantity</th><th>Range</th><th>Speed</th><th>Cabin</th></tr><tr><th></th><th title=\"Int64\">Int64</th><th title=\"Int64\">Int64</th><th title=\"Int64\">Int64</th><th title=\"Float64\">Float64</th><th title=\"Int64\">Int64</th><th title=\"Int64\">Int64</th><th title=\"Int64\">Int64</th><th title=\"Int64\">Int64</th></tr></thead><tbody><tr><th>1</th><td>11</td><td>1</td><td>1985</td><td>12.9</td><td>13</td><td>3030</td><td>421</td><td>1035</td></tr><tr><th>2</th><td>11</td><td>1</td><td>1986</td><td>13.1</td><td>18</td><td>3030</td><td>421</td><td>1035</td></tr><tr><th>3</th><td>11</td><td>1</td><td>1987</td><td>14.9</td><td>15</td><td>3030</td><td>421</td><td>1035</td></tr><tr><th>4</th><td>11</td><td>1</td><td>1988</td><td>15.3</td><td>22</td><td>3030</td><td>421</td><td>1035</td></tr><tr><th>5</th><td>11</td><td>1</td><td>1989</td><td>15.8</td><td>20</td><td>3030</td><td>421</td><td>1035</td></tr></tbody></table></div>"
      ],
      "text/latex": [
       "\\begin{tabular}{r|cccccccc}\n",
       "\t& Model & Manufacturer & Year & Price & Quantity & Range & Speed & Cabin\\\\\n",
       "\t\\hline\n",
       "\t& Int64 & Int64 & Int64 & Float64 & Int64 & Int64 & Int64 & Int64\\\\\n",
       "\t\\hline\n",
       "\t1 & 11 & 1 & 1985 & 12.9 & 13 & 3030 & 421 & 1035 \\\\\n",
       "\t2 & 11 & 1 & 1986 & 13.1 & 18 & 3030 & 421 & 1035 \\\\\n",
       "\t3 & 11 & 1 & 1987 & 14.9 & 15 & 3030 & 421 & 1035 \\\\\n",
       "\t4 & 11 & 1 & 1988 & 15.3 & 22 & 3030 & 421 & 1035 \\\\\n",
       "\t5 & 11 & 1 & 1989 & 15.8 & 20 & 3030 & 421 & 1035 \\\\\n",
       "\\end{tabular}\n"
      ],
      "text/plain": [
       "\u001b[1m5×8 DataFrame\u001b[0m\n",
       "\u001b[1m Row \u001b[0m│\u001b[1m Model \u001b[0m\u001b[1m Manufacturer \u001b[0m\u001b[1m Year  \u001b[0m\u001b[1m Price   \u001b[0m\u001b[1m Quantity \u001b[0m\u001b[1m Range \u001b[0m\u001b[1m Speed \u001b[0m\u001b[1m Cabin \u001b[0m\n",
       "\u001b[1m     \u001b[0m│\u001b[90m Int64 \u001b[0m\u001b[90m Int64        \u001b[0m\u001b[90m Int64 \u001b[0m\u001b[90m Float64 \u001b[0m\u001b[90m Int64    \u001b[0m\u001b[90m Int64 \u001b[0m\u001b[90m Int64 \u001b[0m\u001b[90m Int64 \u001b[0m\n",
       "─────┼────────────────────────────────────────────────────────────────────\n",
       "   1 │    11             1   1985     12.9        13   3030    421   1035\n",
       "   2 │    11             1   1986     13.1        18   3030    421   1035\n",
       "   3 │    11             1   1987     14.9        15   3030    421   1035\n",
       "   4 │    11             1   1988     15.3        22   3030    421   1035\n",
       "   5 │    11             1   1989     15.8        20   3030    421   1035"
      ]
     },
     "metadata": {},
     "output_type": "display_data"
    }
   ],
   "source": [
    "# Bring on the dataset\n",
    "data = CSV.read(\"/Users/emilymerola/Documents/git/IO_fa23_psets/ps2_data.csv\", DataFrame);\n",
    "first(data,5) #load 5 rows & inspect"
   ]
  },
  {
   "cell_type": "code",
   "execution_count": 3,
   "metadata": {},
   "outputs": [
    {
     "data": {
      "text/plain": [
       "ols (generic function with 1 method)"
      ]
     },
     "metadata": {},
     "output_type": "display_data"
    }
   ],
   "source": [
    "## function to run OLS and get parameter estimates for A/gamma/deltas & calc residuals\n",
    "# take alpha as given \n",
    "# (\"suppose we knew what alpha was. then the following only has exogenous vars on the RHS, and OLS = MLE\")\n",
    "# whole point is to simplify the search procedure re: MLE for all of these parameters.\n",
    "\n",
    "function ols(X::Vector)\n",
    "    # pull what we need from the original dataframe\n",
    "    y_demand = data.P + ((X[1]) .* data.Q)      # same as below. setting aside to make regression equations below clear.\n",
    "    y_collusive = data.P .- ((X[1]) .* data.Q)\n",
    "    y_cournot = data.P .- ((X[1] ./ data.N) .* data.Q)\n",
    "    W = data.W\n",
    "    S = data.S\n",
    "\n",
    "    df = DataFrame(y0 = y_demand, y1 = y_collusive, y2 = y_cournot, W = W, S = S)\n",
    "\n",
    "    # demand\n",
    "    ols0 = lm(@formula(y0~S), df)\n",
    "    A = coef(ols0)[1,1]\n",
    "    gamma = coef(ols0)[2,1]\n",
    "\n",
    "    # supply: collusive case\n",
    "    ols1 = lm(@formula(y1~W), df)\n",
    "    δ0_1 = coef(ols1)[1,1]\n",
    "    δ1_1 = coef(ols1)[2,1]\n",
    "\n",
    "    # supply: cournot case\n",
    "    ols2 = lm(@formula(y2~W), df)\n",
    "    δ0_2 = coef(ols2)[1,1]\n",
    "    δ1_2 = coef(ols2)[2,1]\n",
    "\n",
    "    # predictions for y-hats\n",
    "    y_hat0 = predict(ols0)\n",
    "    y_hat1 = predict(ols1)\n",
    "    y_hat2 = predict(ols2)\n",
    "\n",
    "    # residuals\n",
    "    eps0 = df.y0 - y_hat0\n",
    "    eps1 = df.y1 - y_hat1\n",
    "    eps2 = df.y2 - y_hat2\n",
    "\n",
    "    eps_supply = (X[2] .* eps1) .+ ((1-X[2]) .* eps2)\n",
    "\n",
    "    return Δ = (A=A, gamma=gamma, δ0_1=δ0_1, δ1_1=δ1_1, δ0_2=δ0_2, δ1_2=δ1_2, eps0=eps0, eps1=eps1, eps2=eps2, eps_supply)\n",
    "end"
   ]
  },
  {
   "cell_type": "code",
   "execution_count": 4,
   "metadata": {},
   "outputs": [
    {
     "data": {
      "text/plain": [
       "optimal_params (generic function with 1 method)"
      ]
     },
     "metadata": {},
     "output_type": "display_data"
    }
   ],
   "source": [
    "# Function to generate our optimal parameters guess\n",
    "function optimal_params(Z::Vector)\n",
    "    X = [Z[1],Z[2]]\n",
    "\n",
    "    ols_res = ols(X)\n",
    "\n",
    "    sig1 = exp(Z[3])\n",
    "    sig2 = exp(Z[4])\n",
    "\n",
    "    lk_1 = sum(logpdf.(Normal(0,sig1), ols_res.eps0))\n",
    "    lk_2 = sum(logpdf.(Normal(0,sig2), ols_res.eps_supply))\n",
    "\n",
    "    lk_1 = -lk_1\n",
    "    lk_2 = -lk_2\n",
    "\n",
    "    lklhd = lk_1 + lk_2 \n",
    "    return Ω = (lklhd = lklhd) \n",
    "end"
   ]
  },
  {
   "cell_type": "code",
   "execution_count": 5,
   "metadata": {},
   "outputs": [
    {
     "data": {
      "text/plain": [
       "0.2847718765335344"
      ]
     },
     "metadata": {},
     "output_type": "display_data"
    }
   ],
   "source": [
    "## Solve for lambda \n",
    "\n",
    "## initial values\n",
    "    # set the seed (not completely necessary)\n",
    "    Random.seed!(123)\n",
    "\n",
    "    # first set of w guesses, first guess of lambda\n",
    "    w0 = rand(Uniform(0.0,1.0), 500)\n",
    "\n",
    "    # generate first guess of lambda\n",
    "    λ0 = sum(w0)/500\n",
    "\n",
    "## Update lambdas until they converge\n",
    "diff = 1\n",
    "while diff > 0.001\n",
    "\n",
    "    # our guess (note that only the lambda needs to update)\n",
    "    Z = [-4, λ0, 2.302585092994046, 2.4849066497880004]\n",
    "\n",
    "    # calculate the optimal parameters for the given guess\n",
    "    par_res = optimize(optimal_params, Z)\n",
    "\n",
    "    # pull out \"optimal parameters\" we just found, also use them (alpha) to calculate the implied errors we observe\n",
    "    opt_sig2 = Optim.minimizer(par_res)[4]\n",
    "    X2 = [Optim.minimizer(par_res)[1], Optim.minimizer(par_res)[2]]\n",
    "    ols_res = ols(X2)\n",
    "\n",
    "\n",
    "    # adjust to next guess of w's using Bayes' rule\n",
    "    top = λ0 * pdf.(Normal(0,opt_sig2), ols_res.eps1)\n",
    "    bottom = top + (1-λ0)*pdf.(Normal(0,opt_sig2), ols_res.eps2)\n",
    "    w1 = top./bottom\n",
    "\n",
    "    # calculate the new lambda\n",
    "    λ1 = sum(w1)/500\n",
    "\n",
    "    # compare to previous lambda\n",
    "    diff = λ1 - λ0\n",
    "\n",
    "    # # update for next iteration (if diff is too big)\n",
    "    λ0 = λ1\n",
    "\n",
    "end\n",
    "\n",
    "λ0"
   ]
  }
 ],
 "metadata": {
  "anaconda-cloud": {},
  "kernelspec": {
   "display_name": "Julia 1.8.2",
   "language": "julia",
   "name": "julia-1.8"
  },
  "language_info": {
   "file_extension": ".jl",
   "mimetype": "application/julia",
   "name": "julia",
   "version": "1.8.2"
  }
 },
 "nbformat": 4,
 "nbformat_minor": 1
}
